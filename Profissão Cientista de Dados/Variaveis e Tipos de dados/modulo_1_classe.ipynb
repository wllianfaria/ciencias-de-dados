{
  "nbformat": 4,
  "nbformat_minor": 0,
  "metadata": {
    "colab": {
      "provenance": [],
      "collapsed_sections": [
        "JG1HL69-j0lH",
        "s_Dj-BgThLg5",
        "jeEzLmuRhDQy",
        "PoTeRwlihDQ0",
        "QpMlxqRyhDQ1",
        "ov7Fg-mWhDQ1",
        "DvHPNAoPgdiG",
        "3SMp5GwjglJm",
        "e3ieQfXTgqd3",
        "L0pKWNr5fm9z",
        "DMhCpOU_gupo",
        "l3h0WP2Eg2ht",
        "rWG4Vk6XaWtf",
        "wkibgd8rB8y3",
        "IjPaJtnYE0MI",
        "2lpj1rszc--m",
        "HnWg_mhLd5gC",
        "RhqmXiHQo-is",
        "SvT9xrajLL7J",
        "91eSyA2cLLqv"
      ],
      "toc_visible": true
    },
    "kernelspec": {
      "name": "python3",
      "display_name": "Python 3"
    }
  },
  "cells": [
    {
      "cell_type": "markdown",
      "metadata": {
        "id": "KJqp9AANOCtf"
      },
      "source": [
        "<img src=\"https://raw.githubusercontent.com/andre-marcos-perez/ebac-course-utils/main/media/logo/newebac_logo_black_half.png\" alt=\"ebac-logo\">\n",
        "\n",
        "---\n",
        "\n",
        "# **Módulo 01** | Python: Variáveis & Tipos de Dados\n",
        "Caderno de **Aula**<br>\n",
        "Professor [André Perez](https://www.linkedin.com/in/andremarcosperez/)\n",
        "\n",
        "---"
      ]
    },
    {
      "cell_type": "markdown",
      "metadata": {
        "id": "d9jDtUbDOE1-"
      },
      "source": [
        "# **Tópicos**\n",
        "\n",
        "<ol type=\"1\">\n",
        "  <li>Introdução ao Google Colab;</li>\n",
        "  <li>Variáveis;</li>\n",
        "  <li>Números;</li>\n",
        "  <li><i>Strings;</i></li>\n",
        "  <li>Boleanos.</li>\n",
        "</ol>"
      ]
    },
    {
      "cell_type": "markdown",
      "metadata": {
        "id": "SmoHgt-lwkpD"
      },
      "source": [
        "---"
      ]
    },
    {
      "cell_type": "markdown",
      "metadata": {
        "id": "GABI6OW8OfQ2"
      },
      "source": [
        "# **Aulas**"
      ]
    },
    {
      "cell_type": "markdown",
      "metadata": {
        "id": "muD1vxozykSC"
      },
      "source": [
        "## 1\\. Introdução ao Google Colab"
      ]
    },
    {
      "cell_type": "markdown",
      "metadata": {
        "id": "xT1ohV3t0FQJ"
      },
      "source": [
        "> Ferramenta web autogerênciada de cadernos (*notebooks*)."
      ]
    },
    {
      "cell_type": "markdown",
      "metadata": {
        "id": "5a3_syBIP6yO"
      },
      "source": [
        "### **1.1. Ferramenta web**"
      ]
    },
    {
      "cell_type": "markdown",
      "metadata": {
        "id": "xF1tFQyRQag2"
      },
      "source": [
        "\n",
        "\n",
        "*   Crie uma conta Google em [gmail.com](https://gmail.com);\n",
        "*   Acesse o Google Colab através do endereço [colab.research.google.com](https://colab.research.google.com/).\n",
        "\n",
        "\n"
      ]
    },
    {
      "cell_type": "markdown",
      "metadata": {
        "id": "VkIgtLmhQRDV"
      },
      "source": [
        "### **1.2. Autogerênciada**"
      ]
    },
    {
      "cell_type": "markdown",
      "metadata": {
        "id": "P14BSbuH0SQB"
      },
      "source": [
        "\n",
        "\n",
        "*   A Google provisiona uma máquina virtual para você;\n",
        "*   A máquina virtual dura no máximo 12h.\n",
        "\n"
      ]
    },
    {
      "cell_type": "markdown",
      "metadata": {
        "id": "mIgaH380QG2e"
      },
      "source": [
        "### **1.3. Cadernos (*notebooks*)**"
      ]
    },
    {
      "cell_type": "markdown",
      "metadata": {
        "id": "_4Q4H0RKm-4G"
      },
      "source": [
        "Um **caderno** é um documento *web* composto por um conjunto de elementos (células) de texto e código:\n",
        "\n",
        "\n",
        "*   Células de **texto** podem ser editados com o editor da ferramenta, HTML ou Markdown;\n",
        "*   Células de **código** são exclusivamente para a linguagem de programação Python.\n",
        "\n"
      ]
    },
    {
      "cell_type": "code",
      "metadata": {
        "id": "ILZGen4Ob_vC",
        "colab": {
          "base_uri": "https://localhost:8080/"
        },
        "outputId": "e829520a-1a49-4a9f-ec11-49363585d4c6"
      },
      "source": [
        "print(\"olá mundo!\")"
      ],
      "execution_count": null,
      "outputs": [
        {
          "output_type": "stream",
          "name": "stdout",
          "text": [
            "olá mundo!\n"
          ]
        }
      ]
    },
    {
      "cell_type": "markdown",
      "metadata": {
        "id": "zC2XR1GRaFl5"
      },
      "source": [
        "## 2\\. Variáveis"
      ]
    },
    {
      "cell_type": "markdown",
      "metadata": {
        "id": "sV1otxQVhcaA"
      },
      "source": [
        "### **2.1. Definição**"
      ]
    },
    {
      "cell_type": "markdown",
      "metadata": {
        "id": "h5y7fCLQkZsh"
      },
      "source": [
        "Mecanismo de armazenamento volátil de dados, ou seja, dados salvos em pedacinhos da memória RAM do sistema computacional em uso (*notebook*, *mobile*, console de vídeo game, *smartwatch*, etc.)."
      ]
    },
    {
      "cell_type": "code",
      "metadata": {
        "id": "aMZfXjjakydR",
        "colab": {
          "base_uri": "https://localhost:8080/"
        },
        "outputId": "200aec96-8962-47e6-eade-90c72a25f09f"
      },
      "source": [
        "idade = 30\n",
        "print(idade)\n",
        "\n",
        "idade = 27\n",
        "print(idade)\n",
        "\n",
        "nome = \"andré\"\n",
        "print(nome)"
      ],
      "execution_count": null,
      "outputs": [
        {
          "output_type": "stream",
          "name": "stdout",
          "text": [
            "30\n",
            "27\n",
            "andré\n"
          ]
        }
      ]
    },
    {
      "cell_type": "markdown",
      "metadata": {
        "id": "JG1HL69-j0lH"
      },
      "source": [
        "### **2.2. Tipos nativos**"
      ]
    },
    {
      "cell_type": "markdown",
      "metadata": {
        "id": "ltUCqK5Yj6AN"
      },
      "source": [
        "**Tipos numéricos:** inteiros (`int`) e decimais (`float`):"
      ]
    },
    {
      "cell_type": "code",
      "metadata": {
        "id": "7GDDnhhLhsZ2",
        "colab": {
          "base_uri": "https://localhost:8080/"
        },
        "outputId": "08acd507-fad5-4117-e04a-280865d108ad"
      },
      "source": [
        "preco = 1000\n",
        "tipo_preco = type(preco)\n",
        "\n",
        "print(preco)\n",
        "print(tipo_preco)\n",
        "\n",
        "juros = 0.05\n",
        "tipo_juros = type(juros)\n",
        "\n",
        "print(juros)\n",
        "print(tipo_juros)"
      ],
      "execution_count": null,
      "outputs": [
        {
          "output_type": "stream",
          "name": "stdout",
          "text": [
            "1000\n",
            "<class 'int'>\n",
            "0.05\n",
            "<class 'float'>\n"
          ]
        }
      ]
    },
    {
      "cell_type": "markdown",
      "metadata": {
        "id": "5LLx5ePxj_UW"
      },
      "source": [
        "**Tipos de texto:** *strings* (`str`):"
      ]
    },
    {
      "cell_type": "code",
      "metadata": {
        "id": "FKuOxDzQiHAo",
        "outputId": "e2bcd377-9974-4dd9-e84c-edc0d74063d1",
        "colab": {
          "base_uri": "https://localhost:8080/"
        }
      },
      "source": [
        "primeiro_nome = \"André\"\n",
        "\n",
        "print(primeiro_nome)\n",
        "print(type(primeiro_nome))\n",
        "\n",
        "pais = 'Brasil'\n",
        "\n",
        "print(pais)\n",
        "print(type(pais))"
      ],
      "execution_count": null,
      "outputs": [
        {
          "output_type": "stream",
          "name": "stdout",
          "text": [
            "André\n",
            "<class 'str'>\n",
            "Brasil\n",
            "<class 'str'>\n"
          ]
        }
      ]
    },
    {
      "cell_type": "markdown",
      "metadata": {
        "id": "RGKyzda2kIh5"
      },
      "source": [
        "**Tipos lógicos:** booleanos (`bool`):"
      ]
    },
    {
      "cell_type": "code",
      "metadata": {
        "id": "C2cJSexqiTq-",
        "outputId": "1571cde1-9ea7-4a55-8441-f1bb7666f9c2",
        "colab": {
          "base_uri": "https://localhost:8080/"
        }
      },
      "source": [
        "usuario_maior_de_idade = True\n",
        "\n",
        "print(usuario_maior_de_idade)\n",
        "print(type(usuario_maior_de_idade))"
      ],
      "execution_count": null,
      "outputs": [
        {
          "output_type": "stream",
          "name": "stdout",
          "text": [
            "True\n",
            "<class 'bool'>\n"
          ]
        }
      ]
    },
    {
      "cell_type": "markdown",
      "metadata": {
        "id": "7Is0Z3PzkQqw"
      },
      "source": [
        "**Tipo vazio** (`NoneType`):"
      ]
    },
    {
      "cell_type": "code",
      "metadata": {
        "id": "47WGcXxIijO-",
        "colab": {
          "base_uri": "https://localhost:8080/"
        },
        "outputId": "0b3aae8d-f54f-4de0-e56c-0637f4de2e45"
      },
      "source": [
        "telefone_fixo = None\n",
        "\n",
        "print(telefone_fixo)\n",
        "print(type(telefone_fixo))"
      ],
      "execution_count": null,
      "outputs": [
        {
          "output_type": "stream",
          "name": "stdout",
          "text": [
            "None\n",
            "<class 'NoneType'>\n"
          ]
        }
      ]
    },
    {
      "cell_type": "markdown",
      "metadata": {
        "id": "ZtOHwcxEaGGp"
      },
      "source": [
        "## 3\\. Números"
      ]
    },
    {
      "cell_type": "markdown",
      "metadata": {
        "id": "s_Dj-BgThLg5"
      },
      "source": [
        "### **3.1. Motivação**"
      ]
    },
    {
      "cell_type": "markdown",
      "metadata": {
        "id": "-WX56uZlEVEb"
      },
      "source": [
        "Você precisa calcular o **ticket médio** diário `tkt` do seu restaurante. A métrica é calculada pela soma do valor das vendas `svv` de um mesmo dia dividido pela quantidade de vendas `sqv`, também de um mesmo dia.\n"
      ]
    },
    {
      "cell_type": "markdown",
      "metadata": {
        "id": "5a_KPf7MM_NV"
      },
      "source": [
        "$tkt = svv / sqv$"
      ]
    },
    {
      "cell_type": "markdown",
      "metadata": {
        "id": "QV_qcqfZMzoL"
      },
      "source": [
        "Esta é a sua planilha:\n",
        "\n"
      ]
    },
    {
      "cell_type": "markdown",
      "metadata": {
        "id": "ubiOD7fyNB9t"
      },
      "source": [
        "| Dia   | Valor Total Vendas | Qtd Total Vendas | Ticket Medio |\n",
        "|-------|--------------------|------------------|-|\n",
        "| 19/01 | 153.98             | 3                |?|\n",
        "| 20/01 | 337.01             | 7                |?|\n",
        "| 23/01 | 295.33             | 5                |?|"
      ]
    },
    {
      "cell_type": "markdown",
      "metadata": {
        "id": "zl3QjgS_1o1n"
      },
      "source": [
        "Como podemos fazer este cálculo usando o Python?"
      ]
    },
    {
      "cell_type": "markdown",
      "metadata": {
        "id": "jeEzLmuRhDQy"
      },
      "source": [
        "### **3.2. Definição**"
      ]
    },
    {
      "cell_type": "markdown",
      "metadata": {
        "id": "ngFl2buTAnSs"
      },
      "source": [
        "Armazenam **valores numéricos**:\n",
        "\n",
        "*   `10, 37, 500` (inteiros);\n",
        "*   `0.333, 10.1` (decimais);\n",
        "*   `1 + 2j` (complexos).\n",
        "\n"
      ]
    },
    {
      "cell_type": "markdown",
      "metadata": {
        "id": "Ai9djKfjBjO7"
      },
      "source": [
        "São dos tipos:\n",
        "\n",
        "*   `int` (inteiros);\n",
        "*   `float` (decimais);\n",
        "*   `complex` (complexos).\n",
        "\n"
      ]
    },
    {
      "cell_type": "code",
      "metadata": {
        "id": "45Zt8wPsBzFL",
        "colab": {
          "base_uri": "https://localhost:8080/"
        },
        "outputId": "5bfefb20-120e-4e72-b531-a9d942738fcb"
      },
      "source": [
        "print(type(37))\n",
        "print(type(10.1))\n",
        "print(type(1 + 2j))\n"
      ],
      "execution_count": null,
      "outputs": [
        {
          "output_type": "stream",
          "name": "stdout",
          "text": [
            "<class 'int'>\n",
            "<class 'float'>\n",
            "<class 'complex'>\n"
          ]
        }
      ]
    },
    {
      "cell_type": "markdown",
      "metadata": {
        "id": "PoTeRwlihDQ0"
      },
      "source": [
        "### **3.3. Operações**\n",
        "\n",
        "\n",
        "\n"
      ]
    },
    {
      "cell_type": "markdown",
      "metadata": {
        "id": "jhK1JIKUDGKG"
      },
      "source": [
        "As operações dos tipos numéricos são as quatro operações matemáticas fundamentais:\n",
        "\n",
        "*   `+` (soma);\n",
        "*   `-` (subtração);\n",
        "*   `*` (multiplicação);\n",
        "*   `/` (divisão).\n",
        "\n",
        "Além de operações mais avançadas:\n",
        "\n",
        "*   `//` (divisão inteira)\n",
        "*   `**` (potência ou exponenciação);\n",
        "*   `%` (resto de divisão)."
      ]
    },
    {
      "cell_type": "markdown",
      "metadata": {
        "id": "UYw4Ysf7a9mq"
      },
      "source": [
        "**Exemplo**: Carrinho de compra de um *e-commerce*."
      ]
    },
    {
      "cell_type": "code",
      "metadata": {
        "id": "jk33JZ4EChkY",
        "outputId": "c19068b2-63ac-4edd-888f-fcb42b39c053",
        "colab": {
          "base_uri": "https://localhost:8080/"
        }
      },
      "source": [
        "qtd_items_carrinho_compra = 0\n",
        "\n",
        "qtd_items_carrinho_compra = qtd_items_carrinho_compra + 1\n",
        "print(qtd_items_carrinho_compra)\n",
        "\n",
        "qtd_items_carrinho_compra = qtd_items_carrinho_compra + 1\n",
        "print(qtd_items_carrinho_compra)"
      ],
      "execution_count": null,
      "outputs": [
        {
          "output_type": "stream",
          "name": "stdout",
          "text": [
            "1\n",
            "2\n"
          ]
        }
      ]
    },
    {
      "cell_type": "code",
      "metadata": {
        "id": "O6RSj4GrD4ub",
        "outputId": "70b1d193-eb4d-4c0b-b873-6ba8cf174d66",
        "colab": {
          "base_uri": "https://localhost:8080/"
        }
      },
      "source": [
        "qtd_items_carrinho_compra = 0\n",
        "\n",
        "qtd_items_carrinho_compra += 1\n",
        "print(qtd_items_carrinho_compra)\n",
        "\n",
        "qtd_items_carrinho_compra += 1\n",
        "print(qtd_items_carrinho_compra)"
      ],
      "execution_count": null,
      "outputs": [
        {
          "output_type": "stream",
          "name": "stdout",
          "text": [
            "1\n",
            "2\n"
          ]
        }
      ]
    },
    {
      "cell_type": "markdown",
      "metadata": {
        "id": "J7qurQRJbFJZ"
      },
      "source": [
        "**Exemplo**: Total a pagar de um produto."
      ]
    },
    {
      "cell_type": "code",
      "metadata": {
        "id": "hcIHiGzREIUW",
        "colab": {
          "base_uri": "https://localhost:8080/"
        },
        "outputId": "e8795122-3f2e-4246-abc2-4fd7aaa0a141"
      },
      "source": [
        "preco = 47\n",
        "quantidade = 0.250\n",
        "\n",
        "total_a_pagar = quantidade * preco\n",
        "print(total_a_pagar)"
      ],
      "execution_count": null,
      "outputs": [
        {
          "output_type": "stream",
          "name": "stdout",
          "text": [
            "11.75\n"
          ]
        }
      ]
    },
    {
      "cell_type": "code",
      "metadata": {
        "id": "uK-JxBwc28Yo",
        "colab": {
          "base_uri": "https://localhost:8080/"
        },
        "outputId": "588cea08-a715-4623-d477-a6f99517be17"
      },
      "source": [
        "a = 3\n",
        "b = 2\n",
        "\n",
        "c = a / b\n",
        "print(c)\n",
        "print(type(c))\n",
        "\n",
        "d = a // b\n",
        "print(d)\n",
        "print(type(d))"
      ],
      "execution_count": null,
      "outputs": [
        {
          "output_type": "stream",
          "name": "stdout",
          "text": [
            "1.5\n",
            "<class 'float'>\n",
            "1\n",
            "<class 'int'>\n"
          ]
        }
      ]
    },
    {
      "cell_type": "markdown",
      "metadata": {
        "id": "QpMlxqRyhDQ1"
      },
      "source": [
        "### **3.4. Conversão**"
      ]
    },
    {
      "cell_type": "markdown",
      "metadata": {
        "id": "blCccgPDb4Xq"
      },
      "source": [
        "Podemos converter os tipos numéricos entre si utilizando o método nativo `int`, `float` e `complex`:"
      ]
    },
    {
      "cell_type": "code",
      "metadata": {
        "id": "ys7oqfsSPxuo",
        "colab": {
          "base_uri": "https://localhost:8080/"
        },
        "outputId": "574db06c-1351-4972-fe6f-856439fa35f5"
      },
      "source": [
        "print(int(3.9))"
      ],
      "execution_count": null,
      "outputs": [
        {
          "output_type": "stream",
          "name": "stdout",
          "text": [
            "3\n"
          ]
        }
      ]
    },
    {
      "cell_type": "code",
      "metadata": {
        "id": "X9gYjUQscd93",
        "colab": {
          "base_uri": "https://localhost:8080/"
        },
        "outputId": "39eede1b-251b-479a-85ce-ae65e5f773fa"
      },
      "source": [
        "print(float(10))"
      ],
      "execution_count": null,
      "outputs": [
        {
          "output_type": "stream",
          "name": "stdout",
          "text": [
            "10.0\n"
          ]
        }
      ]
    },
    {
      "cell_type": "code",
      "metadata": {
        "id": "0NyTadpHchyu",
        "colab": {
          "base_uri": "https://localhost:8080/"
        },
        "outputId": "0a8c43be-f6da-4300-be59-ca93c8589879"
      },
      "source": [
        "print(complex(1))"
      ],
      "execution_count": null,
      "outputs": [
        {
          "output_type": "stream",
          "name": "stdout",
          "text": [
            "(1+0j)\n"
          ]
        }
      ]
    },
    {
      "cell_type": "markdown",
      "metadata": {
        "id": "ov7Fg-mWhDQ1"
      },
      "source": [
        "### **3.5. Revisitando a motivação**"
      ]
    },
    {
      "cell_type": "markdown",
      "metadata": {
        "id": "FCoe_26dbXwR"
      },
      "source": [
        "| Dia   | Valor Total Vendas | Qtd Total Vendas | Ticket Medio |\n",
        "|-------|--------------------|------------------|-|\n",
        "| 19/01 | 153.98             | 3                |?|\n",
        "| 20/01 | 337.01             | 7                |?|\n",
        "| 23/01 | 295.33             | 5                |?|"
      ]
    },
    {
      "cell_type": "markdown",
      "metadata": {
        "id": "fWH4WbWAOgoz"
      },
      "source": [
        "Ticket médio diário do dia 19/01."
      ]
    },
    {
      "cell_type": "code",
      "metadata": {
        "id": "gYcNsiolOUKU",
        "colab": {
          "base_uri": "https://localhost:8080/"
        },
        "outputId": "4b72f8d3-1d74-4f43-d9aa-d39cbd423ecb"
      },
      "source": [
        "svv_19 = 153.98\n",
        "sqv_19 = 3\n",
        "\n",
        "tkt_19 = svv_19 / sqv_19\n",
        "print(tkt_19)"
      ],
      "execution_count": null,
      "outputs": [
        {
          "output_type": "stream",
          "name": "stdout",
          "text": [
            "51.32666666666666\n"
          ]
        }
      ]
    },
    {
      "cell_type": "markdown",
      "metadata": {
        "id": "RrLEVyS6Pmpn"
      },
      "source": [
        "Ticket médio diário do dia 20/01."
      ]
    },
    {
      "cell_type": "code",
      "metadata": {
        "id": "YIi6A_55OUpT",
        "colab": {
          "base_uri": "https://localhost:8080/"
        },
        "outputId": "4d32c104-155b-4dac-a1ba-79e8bc2748ba"
      },
      "source": [
        "svv_20 = 337.01\n",
        "sqv_20 = 7\n",
        "\n",
        "tkt_20 = svv_20 / sqv_20\n",
        "print(tkt_20)"
      ],
      "execution_count": null,
      "outputs": [
        {
          "output_type": "stream",
          "name": "stdout",
          "text": [
            "48.144285714285715\n"
          ]
        }
      ]
    },
    {
      "cell_type": "markdown",
      "metadata": {
        "id": "iQyQbWldPpIq"
      },
      "source": [
        "Ticket médio diário do dia 23/01."
      ]
    },
    {
      "cell_type": "code",
      "metadata": {
        "id": "3DX3teGqPHet",
        "colab": {
          "base_uri": "https://localhost:8080/"
        },
        "outputId": "5e73aaf2-55e9-4a41-c1b7-513c48411a97"
      },
      "source": [
        "svv_23 = 295.33\n",
        "sqv_23 = 5\n",
        "\n",
        "tkt_23 = svv_23 / sqv_23\n",
        "print(tkt_23)"
      ],
      "execution_count": null,
      "outputs": [
        {
          "output_type": "stream",
          "name": "stdout",
          "text": [
            "59.065999999999995\n"
          ]
        }
      ]
    },
    {
      "cell_type": "markdown",
      "metadata": {
        "id": "is2buU5dPrS-"
      },
      "source": [
        "Ticket médio"
      ]
    },
    {
      "cell_type": "code",
      "metadata": {
        "id": "G6-yjrQkPT8y",
        "colab": {
          "base_uri": "https://localhost:8080/"
        },
        "outputId": "faacff3e-29c0-4d44-d00c-ad205b63d6ce"
      },
      "source": [
        "tkt = (tkt_19 + tkt_20 + tkt_23) / 3\n",
        "print(tkt)"
      ],
      "execution_count": null,
      "outputs": [
        {
          "output_type": "stream",
          "name": "stdout",
          "text": [
            "52.8456507936508\n"
          ]
        }
      ]
    },
    {
      "cell_type": "markdown",
      "metadata": {
        "id": "ne7Ay0HKaGSv"
      },
      "source": [
        "## 4\\. *Strings*"
      ]
    },
    {
      "cell_type": "markdown",
      "metadata": {
        "id": "DvHPNAoPgdiG"
      },
      "source": [
        "### **4.1. Motivação**"
      ]
    },
    {
      "cell_type": "markdown",
      "metadata": {
        "id": "2zLVibiQtAly"
      },
      "source": [
        "A empresa que você trabalha adquiriu uma *startup* de logística. Você precisa identificar todos endereços que são comum a ambas. Na sua empresa, você armazena a latitude e longitude dos endereços em duas variáveis `lat` e `lon`, já a *startup* adquirida em uma única variável `latlon`.\n",
        "\n"
      ]
    },
    {
      "cell_type": "code",
      "metadata": {
        "id": "YYWnkgj4udsB"
      },
      "source": [
        "# sua empresa\n",
        "lat = '-22.005320'\n",
        "lon = '-47.891040'\n",
        "\n",
        "# startup adquirida\n",
        "latlon = '-22.005320;-47.891040'"
      ],
      "execution_count": null,
      "outputs": []
    },
    {
      "cell_type": "markdown",
      "metadata": {
        "id": "NqIBXMslu8rx"
      },
      "source": [
        "Como podemos normalizar a forma com que as latitudes e longitudes são armazenadas para possam ser comparadas?"
      ]
    },
    {
      "cell_type": "markdown",
      "metadata": {
        "id": "3SMp5GwjglJm"
      },
      "source": [
        "### **4.2. Definição**"
      ]
    },
    {
      "cell_type": "markdown",
      "metadata": {
        "id": "OyaC_TtSc-WB"
      },
      "source": [
        "Armazenam **textos**:"
      ]
    },
    {
      "cell_type": "markdown",
      "metadata": {
        "id": "iJ4X178KeNEM"
      },
      "source": [
        "\n",
        "*   `c`, `EBAC`, `Andre Perez, 20 anos` (texto)\n",
        "\n"
      ]
    },
    {
      "cell_type": "markdown",
      "metadata": {
        "id": "Z7rXi3m_ewAs"
      },
      "source": [
        "São do tipo `str`:"
      ]
    },
    {
      "cell_type": "code",
      "metadata": {
        "id": "2WC97LIMfUsb",
        "colab": {
          "base_uri": "https://localhost:8080/"
        },
        "outputId": "3dece670-1692-4c35-aad3-ce721216b245"
      },
      "source": [
        "nome_aula = 'Aula 04, Módulo 01, Strings'\n",
        "\n",
        "print(nome_aula)\n",
        "print(type(nome_aula))"
      ],
      "execution_count": null,
      "outputs": [
        {
          "output_type": "stream",
          "name": "stdout",
          "text": [
            "Aula 04, Módulo 01, Strings\n",
            "<class 'str'>\n"
          ]
        }
      ]
    },
    {
      "cell_type": "code",
      "metadata": {
        "id": "T0pVDdDDFix5",
        "colab": {
          "base_uri": "https://localhost:8080/"
        },
        "outputId": "0a5efd0f-b7ad-47a5-ed2c-c1c034430b0b"
      },
      "source": [
        "string_vazia = \"\"\n",
        "\n",
        "print(string_vazia)\n",
        "print(type(string_vazia))"
      ],
      "execution_count": null,
      "outputs": [
        {
          "output_type": "stream",
          "name": "stdout",
          "text": [
            "\n",
            "<class 'str'>\n"
          ]
        }
      ]
    },
    {
      "cell_type": "markdown",
      "metadata": {
        "id": "e3ieQfXTgqd3"
      },
      "source": [
        "### **4.3. Operações**"
      ]
    },
    {
      "cell_type": "markdown",
      "metadata": {
        "id": "IsHq0ZpTf2M8"
      },
      "source": [
        "As operações de variáveis do tipo *string* são:\n",
        "\n",
        "\n",
        "*   `+` (concatenação).\n",
        "\n"
      ]
    },
    {
      "cell_type": "markdown",
      "metadata": {
        "id": "0om-T5A_h8h2"
      },
      "source": [
        "**Exemplo:** Nome completo."
      ]
    },
    {
      "cell_type": "code",
      "metadata": {
        "id": "mFWid8IlgChM",
        "colab": {
          "base_uri": "https://localhost:8080/"
        },
        "outputId": "73247cf9-80b6-4b3a-ae66-e23bbace5d84"
      },
      "source": [
        "nome = 'Andre Marcos'\n",
        "sobrenome = 'Perez'\n",
        "\n",
        "apresentacao = 'Olá, meu nome é ' + nome + ' ' + sobrenome + '.'\n",
        "print(apresentacao)"
      ],
      "execution_count": null,
      "outputs": [
        {
          "output_type": "stream",
          "name": "stdout",
          "text": [
            "Olá, meu nome é Andre Marcos Perez.\n"
          ]
        }
      ]
    },
    {
      "cell_type": "markdown",
      "metadata": {
        "id": "EOmjluXb_6mt"
      },
      "source": [
        "Uma outra forma de concatenar strings é utilizar operações de formatação:"
      ]
    },
    {
      "cell_type": "code",
      "metadata": {
        "id": "DskkKjbmABA3",
        "colab": {
          "base_uri": "https://localhost:8080/"
        },
        "outputId": "e392de92-dfc0-4e44-af30-e3d7a87887dd"
      },
      "source": [
        "nome = 'Andre Marcos'\n",
        "sobrenome = 'Perez'\n",
        "\n",
        "apresentacao = f'Olá, meu nome é {nome} {sobrenome}.'\n",
        "print(apresentacao)"
      ],
      "execution_count": null,
      "outputs": [
        {
          "output_type": "stream",
          "name": "stdout",
          "text": [
            "Olá, meu nome é Andre Marcos Perez.\n"
          ]
        }
      ]
    },
    {
      "cell_type": "markdown",
      "metadata": {
        "id": "vJ3GmHlbiklQ"
      },
      "source": [
        "Outra operação muito utilizada é a de fatiamento (*slicing*):\n",
        "\n"
      ]
    },
    {
      "cell_type": "markdown",
      "metadata": {
        "id": "h8i95BIFn8G9"
      },
      "source": [
        "**Exemplo**: Informações de email."
      ]
    },
    {
      "cell_type": "code",
      "metadata": {
        "id": "fGXbXFaAmM8J"
      },
      "source": [
        "email = 'andre.perez@gmail.com'"
      ],
      "execution_count": null,
      "outputs": []
    },
    {
      "cell_type": "markdown",
      "metadata": {
        "id": "gnZGbes5mGeK"
      },
      "source": [
        "\n",
        "\n",
        "Fatiamento fixo:\n",
        "\n",
        "|a|n|d|r|e|.|p|e|r|e|z|@|g|m|a|i|l|.|c|o|m|\n",
        "|-|-|-|-|-|-|-|-|-|-|-|-|-|-|-|-|-|-|-|-|-|\n",
        "|0|1|2|3|4|5|6|7|8|9|10|11|12|13|14|15|16|17|18|19|20|\n",
        "\n"
      ]
    },
    {
      "cell_type": "code",
      "metadata": {
        "id": "oKjp4JKklnJF",
        "colab": {
          "base_uri": "https://localhost:8080/"
        },
        "outputId": "5713036b-ac85-4d70-bb24-de486a321e6d"
      },
      "source": [
        "print('0: ' + email[0])\n",
        "print('11: ' + email[11])"
      ],
      "execution_count": null,
      "outputs": [
        {
          "output_type": "stream",
          "name": "stdout",
          "text": [
            "0: a\n",
            "11: @\n"
          ]
        }
      ]
    },
    {
      "cell_type": "code",
      "metadata": {
        "id": "ZLee51Qpoa5Q",
        "colab": {
          "base_uri": "https://localhost:8080/"
        },
        "outputId": "96aa3477-b2c1-4720-8b59-4412900bc46a"
      },
      "source": [
        "print('-1: ' + email[-1])\n",
        "print('-2: ' + email[-2])"
      ],
      "execution_count": null,
      "outputs": [
        {
          "output_type": "stream",
          "name": "stdout",
          "text": [
            "-1: m\n",
            "-2: o\n"
          ]
        }
      ]
    },
    {
      "cell_type": "markdown",
      "metadata": {
        "id": "tAx_IG1bmZVG"
      },
      "source": [
        "\n",
        "\n",
        "Fatiamento por intervalo:\n",
        "\n",
        "|a|n|d|r|e|.|p|e|r|e|z|@|g|m|a|i|l|.|c|o|m|\n",
        "|-|-|-|-|-|-|-|-|-|-|-|-|-|-|-|-|-|-|-|-|-|\n",
        "|0|1|2|3|4|5|6|7|8|9|10|11|12|13|14|15|16|17|18|19|20|\n",
        "\n"
      ]
    },
    {
      "cell_type": "code",
      "metadata": {
        "id": "WqP4HwT3mYgO",
        "colab": {
          "base_uri": "https://localhost:8080/"
        },
        "outputId": "005473df-425e-4982-dac7-5b55b39e80f1"
      },
      "source": [
        "email_usuario = email[0:11]\n",
        "print(email_usuario)"
      ],
      "execution_count": null,
      "outputs": [
        {
          "output_type": "stream",
          "name": "stdout",
          "text": [
            "andre.perez\n"
          ]
        }
      ]
    },
    {
      "cell_type": "code",
      "metadata": {
        "id": "zOas_vlEmsby",
        "colab": {
          "base_uri": "https://localhost:8080/"
        },
        "outputId": "0cd08f23-32bd-4a0b-da75-fef878c04a06"
      },
      "source": [
        "email_provedor = email[12:21]\n",
        "print(email_provedor)"
      ],
      "execution_count": null,
      "outputs": [
        {
          "output_type": "stream",
          "name": "stdout",
          "text": [
            "gmail.com\n"
          ]
        }
      ]
    },
    {
      "cell_type": "markdown",
      "metadata": {
        "id": "L0pKWNr5fm9z"
      },
      "source": [
        "### **4.4. Métodos**"
      ]
    },
    {
      "cell_type": "markdown",
      "metadata": {
        "id": "52PinrQEon8-"
      },
      "source": [
        "São métodos nativos do Python que nos ajudam a trabalhar no dia a dia com *strings*:"
      ]
    },
    {
      "cell_type": "code",
      "metadata": {
        "id": "-63WyR-4o0Y-"
      },
      "source": [
        "endereco = 'Avenida Paulista, 1811, São Paulo, São Paulo, Brasil.'"
      ],
      "execution_count": null,
      "outputs": []
    },
    {
      "cell_type": "code",
      "metadata": {
        "id": "qtGTk_Fwpixw",
        "colab": {
          "base_uri": "https://localhost:8080/"
        },
        "outputId": "09197036-a460-4426-b521-f27e9e890b89"
      },
      "source": [
        "# maiusculo: string.upper()\n",
        "print(endereco.upper())"
      ],
      "execution_count": null,
      "outputs": [
        {
          "output_type": "stream",
          "name": "stdout",
          "text": [
            "AVENIDA PAULISTA, 1811, SÃO PAULO, SÃO PAULO, BRASIL.\n"
          ]
        }
      ]
    },
    {
      "cell_type": "code",
      "metadata": {
        "id": "8tYEXNxFqBnt",
        "colab": {
          "base_uri": "https://localhost:8080/"
        },
        "outputId": "2d1ca9ee-5994-4e55-84bf-3266951210c1"
      },
      "source": [
        "# posicao: string.find(substring)\n",
        "posicao = endereco.find('Brasil')\n",
        "print(posicao)"
      ],
      "execution_count": null,
      "outputs": [
        {
          "output_type": "stream",
          "name": "stdout",
          "text": [
            "46\n"
          ]
        }
      ]
    },
    {
      "cell_type": "code",
      "metadata": {
        "id": "QuiITrGCqHbW",
        "colab": {
          "base_uri": "https://localhost:8080/"
        },
        "outputId": "4a641405-aa8e-4e37-c92f-2116fad24e56"
      },
      "source": [
        "# substituição: string.replace(antigo, novo)\n",
        "print(endereco.replace('Avenida', 'Av'))"
      ],
      "execution_count": null,
      "outputs": [
        {
          "output_type": "stream",
          "name": "stdout",
          "text": [
            "Av Paulista, 1811, São Paulo, São Paulo, Brasil.\n"
          ]
        }
      ]
    },
    {
      "cell_type": "markdown",
      "metadata": {
        "id": "DMhCpOU_gupo"
      },
      "source": [
        "### **4.5. Conversão**"
      ]
    },
    {
      "cell_type": "markdown",
      "metadata": {
        "id": "1RLPv08iqnh0"
      },
      "source": [
        "Podemos converter *strings* em tipos numéricos e vice-versa."
      ]
    },
    {
      "cell_type": "code",
      "metadata": {
        "id": "3Vp8jY1Hqlz0",
        "colab": {
          "base_uri": "https://localhost:8080/"
        },
        "outputId": "2bb8ad70-d9be-4a89-e875-b1d694b576e4"
      },
      "source": [
        "idade = 19\n",
        "print(type(idade))\n",
        "\n",
        "idade = str(idade)\n",
        "print(type(idade))"
      ],
      "execution_count": null,
      "outputs": [
        {
          "output_type": "stream",
          "name": "stdout",
          "text": [
            "<class 'int'>\n",
            "<class 'str'>\n"
          ]
        }
      ]
    },
    {
      "cell_type": "code",
      "metadata": {
        "id": "I6f8ZEPlrAgN",
        "colab": {
          "base_uri": "https://localhost:8080/"
        },
        "outputId": "ddb233eb-5efd-4009-c9a5-72e6dbec6962"
      },
      "source": [
        "faturamento = 'R$ 35 mi'\n",
        "print(faturamento)\n",
        "print(type(idade))\n",
        "\n",
        "faturamento = int(faturamento[3:5])\n",
        "print(faturamento)\n",
        "print(type(faturamento))"
      ],
      "execution_count": null,
      "outputs": [
        {
          "output_type": "stream",
          "name": "stdout",
          "text": [
            "R$ 35 mi\n",
            "<class 'str'>\n",
            "35\n",
            "<class 'int'>\n"
          ]
        }
      ]
    },
    {
      "cell_type": "markdown",
      "metadata": {
        "id": "l3h0WP2Eg2ht"
      },
      "source": [
        "### **4.6. Revisitando a motivação**"
      ]
    },
    {
      "cell_type": "markdown",
      "metadata": {
        "id": "cbTc4NNVzkTZ"
      },
      "source": [
        "Encontrando a posição do caracter `;` de divisão das *strings* de latitude e longitude da variável da startup:"
      ]
    },
    {
      "cell_type": "code",
      "metadata": {
        "id": "95m9FlwVyrBE",
        "colab": {
          "base_uri": "https://localhost:8080/"
        },
        "outputId": "91cef81a-c505-4890-a99c-7284c49071d4"
      },
      "source": [
        "posicao_char_divisao = latlon.find(';')\n",
        "print(posicao_char_divisao)"
      ],
      "execution_count": null,
      "outputs": [
        {
          "output_type": "stream",
          "name": "stdout",
          "text": [
            "10\n"
          ]
        }
      ]
    },
    {
      "cell_type": "markdown",
      "metadata": {
        "id": "5Sby1I4WzyFH"
      },
      "source": [
        "Extraindo a latitude:"
      ]
    },
    {
      "cell_type": "code",
      "metadata": {
        "id": "tXYl5Qd4zPUR",
        "colab": {
          "base_uri": "https://localhost:8080/"
        },
        "outputId": "97dc4b6b-7283-4213-cc27-d0c52a61ae49"
      },
      "source": [
        "lat_startup = latlon[0:posicao_char_divisao]\n",
        "print(lat_startup)"
      ],
      "execution_count": null,
      "outputs": [
        {
          "output_type": "stream",
          "name": "stdout",
          "text": [
            "-22.005320\n"
          ]
        }
      ]
    },
    {
      "cell_type": "markdown",
      "metadata": {
        "id": "rpK7U99qz1uP"
      },
      "source": [
        "Extraindo a longitude:"
      ]
    },
    {
      "cell_type": "code",
      "metadata": {
        "id": "T3ctz0fbzRcA",
        "colab": {
          "base_uri": "https://localhost:8080/"
        },
        "outputId": "2eb83aca-92ff-416e-8c3a-119b62001e8a"
      },
      "source": [
        "lon_startup = latlon[posicao_char_divisao+1:len(latlon)]\n",
        "print(lon_startup)"
      ],
      "execution_count": null,
      "outputs": [
        {
          "output_type": "stream",
          "name": "stdout",
          "text": [
            "-47.891040\n"
          ]
        }
      ]
    },
    {
      "cell_type": "markdown",
      "metadata": {
        "id": "EvJTE2FpaGeU"
      },
      "source": [
        "## 5\\. Boleanos"
      ]
    },
    {
      "cell_type": "markdown",
      "metadata": {
        "id": "rWG4Vk6XaWtf"
      },
      "source": [
        "### **5.1. Motivação**\n",
        "\n"
      ]
    },
    {
      "cell_type": "markdown",
      "metadata": {
        "id": "jayz6OAaerA1"
      },
      "source": [
        "Em *websites* (redes sociais, *e-commerce*, corporativos, etc.) é comum o uso de sistemas de controle de acesso, o famoso *login*. Em geral, nestes sistemas um usuário fornece dois dados: `usuario` e `senha`:"
      ]
    },
    {
      "cell_type": "code",
      "metadata": {
        "id": "-vdJFukSbGVC"
      },
      "source": [
        "usuario = 'andre.perez'\n",
        "senha = 'andre123'"
      ],
      "execution_count": null,
      "outputs": []
    },
    {
      "cell_type": "markdown",
      "metadata": {
        "id": "X4lWGX3nbFqE"
      },
      "source": [
        "Do lado do servidor, o *backend* do *website* tem armazenado os dados de usuário e senha fornecidas pelo usuário no momento do cadastro: `usuario_cadastro` e `senha_cadastro`:"
      ]
    },
    {
      "cell_type": "code",
      "metadata": {
        "id": "pF1ZKoF5by6v"
      },
      "source": [
        "usuario_cadastro = 'andre.perez'\n",
        "senha_cadastro = 'andre321'"
      ],
      "execution_count": null,
      "outputs": []
    },
    {
      "cell_type": "markdown",
      "metadata": {
        "id": "ab-roDU-b5UA"
      },
      "source": [
        "Como comparamos se as *strings* (`usuario`, `usuario_cadastro`) e (`senha`,`senha_cadastro`) são iguais para conceder ou bloquear o acesso do usuário?"
      ]
    },
    {
      "cell_type": "markdown",
      "metadata": {
        "id": "wkibgd8rB8y3"
      },
      "source": [
        "### **5.2. Definição**"
      ]
    },
    {
      "cell_type": "markdown",
      "metadata": {
        "id": "Iy9ZmOJpVxHQ"
      },
      "source": [
        "Armazenam **valores lógicos**:\n",
        "\n",
        "*   `True` (verdadeiro);\n",
        "*   `False` (falso)."
      ]
    },
    {
      "cell_type": "code",
      "metadata": {
        "id": "C3ktXued98wX",
        "colab": {
          "base_uri": "https://localhost:8080/"
        },
        "outputId": "19355224-b513-4627-c78c-0fed6ef50576"
      },
      "source": [
        "verdadeiro = True\n",
        "print(verdadeiro)"
      ],
      "execution_count": null,
      "outputs": [
        {
          "output_type": "stream",
          "name": "stdout",
          "text": [
            "True\n"
          ]
        }
      ]
    },
    {
      "cell_type": "code",
      "metadata": {
        "id": "BiOivdViCH9e",
        "colab": {
          "base_uri": "https://localhost:8080/"
        },
        "outputId": "122c249f-624d-4540-b048-fe42d5779296"
      },
      "source": [
        "falso = False\n",
        "print(falso)"
      ],
      "execution_count": null,
      "outputs": [
        {
          "output_type": "stream",
          "name": "stdout",
          "text": [
            "False\n"
          ]
        }
      ]
    },
    {
      "cell_type": "markdown",
      "metadata": {
        "id": "Z0tOpkiS0EiO"
      },
      "source": [
        "São do tipo `bool`."
      ]
    },
    {
      "cell_type": "code",
      "metadata": {
        "id": "dyo_noZ80Hra",
        "colab": {
          "base_uri": "https://localhost:8080/"
        },
        "outputId": "c94d317f-9e9f-41a5-9283-7455c15b5b06"
      },
      "source": [
        "print(type(True))"
      ],
      "execution_count": null,
      "outputs": [
        {
          "output_type": "stream",
          "name": "stdout",
          "text": [
            "<class 'bool'>\n"
          ]
        }
      ]
    },
    {
      "cell_type": "markdown",
      "metadata": {
        "id": "qEQrHcyGCtVu"
      },
      "source": [
        "São resultados de comparações lógicas. Os operadores de comparação lógica são:\n",
        "\n",
        "*   `>` (maior);\n",
        "*   `<` (menor);\n",
        "*   `==` (igual);\n",
        "*   `>=` (maior ou igual);\n",
        "*   `<=` (menor ou igual);\n",
        "*   `!=` (diferente).\n",
        "\n"
      ]
    },
    {
      "cell_type": "markdown",
      "metadata": {
        "id": "C-rpefH6fIPf"
      },
      "source": [
        "**Exemplo:** Caixa eletrônico"
      ]
    },
    {
      "cell_type": "code",
      "metadata": {
        "id": "q5PQwuBXDD2P",
        "colab": {
          "base_uri": "https://localhost:8080/"
        },
        "outputId": "43673b93-3a6d-490e-b884-515e22c7097f"
      },
      "source": [
        "saldo_em_conta = 200\n",
        "valor_do_saque = 100\n",
        "\n",
        "pode_executar_saque = valor_do_saque <= saldo_em_conta\n",
        "print(pode_executar_saque)"
      ],
      "execution_count": null,
      "outputs": [
        {
          "output_type": "stream",
          "name": "stdout",
          "text": [
            "True\n"
          ]
        }
      ]
    },
    {
      "cell_type": "markdown",
      "metadata": {
        "id": "6a7xCtTwfSHq"
      },
      "source": [
        "**Exemplo:** Cartão de crédito"
      ]
    },
    {
      "cell_type": "code",
      "metadata": {
        "id": "8pdPLoK9DYZJ",
        "colab": {
          "base_uri": "https://localhost:8080/"
        },
        "outputId": "1ac951ad-2070-4b6f-cb1c-492b6531f1cb"
      },
      "source": [
        "codigo_de_seguranca = '852'\n",
        "codigo_de_seguranca_cadastro = '010'\n",
        "\n",
        "pode_efetuar_pagamento = codigo_de_seguranca == codigo_de_seguranca_cadastro\n",
        "print(pode_efetuar_pagamento)"
      ],
      "execution_count": null,
      "outputs": [
        {
          "output_type": "stream",
          "name": "stdout",
          "text": [
            "False\n"
          ]
        }
      ]
    },
    {
      "cell_type": "markdown",
      "metadata": {
        "id": "IjPaJtnYE0MI"
      },
      "source": [
        "### **5.3. Operações**"
      ]
    },
    {
      "cell_type": "markdown",
      "metadata": {
        "id": "E_1PEdDBV7iM"
      },
      "source": [
        "As operações de variáveis booleanas são:\n",
        "\n",
        "* `|` (operador ou)\n",
        "* `&` (operador e)\n",
        "* `not` (operador não)\n",
        "\n",
        "\n",
        "O conjunto de resultados de operações lógicas geralmente é resumido em uma tabela chamada \"tabela da verdade\":"
      ]
    },
    {
      "cell_type": "markdown",
      "metadata": {
        "id": "CHn4_ahDIAjz"
      },
      "source": [
        "| A        | B        | | | A OR B   | | A AND B  | | NOT A    |\n",
        "|----------|----------|-|-|----------|-|----------|-|----------|\n",
        "| **TRUE** | **TRUE** | | | **TRUE** | | **TRUE** | | FALSE    |\n",
        "| **TRUE** | FALSE    | | | **TRUE** | | FALSE    | | FALSE    |\n",
        "| FALSE    | FALSE    | | | FALSE    | | FALSE    | | **TRUE** |\n",
        "| FALSE    | **TRUE** | | | **TRUE** | | FALSE    | | **TRUE** |"
      ]
    },
    {
      "cell_type": "markdown",
      "metadata": {
        "id": "APMLCAXigGuI"
      },
      "source": [
        "**Exemplo**: Tabela da verdade do operador `|` (ou)."
      ]
    },
    {
      "cell_type": "code",
      "metadata": {
        "id": "-_OVIIKNE51C",
        "colab": {
          "base_uri": "https://localhost:8080/"
        },
        "outputId": "d2dc2d41-4f9f-42a9-9c94-9abde43c430d"
      },
      "source": [
        "print(True | True)\n",
        "print(True | False)\n",
        "print(False | False)\n",
        "print(False | True)"
      ],
      "execution_count": null,
      "outputs": [
        {
          "output_type": "stream",
          "name": "stdout",
          "text": [
            "True\n",
            "True\n",
            "False\n",
            "True\n"
          ]
        }
      ]
    },
    {
      "cell_type": "markdown",
      "metadata": {
        "id": "YK4D_jKOgRec"
      },
      "source": [
        "**Exemplo**: Tabela da verdade do operador `&` (e)."
      ]
    },
    {
      "cell_type": "code",
      "metadata": {
        "id": "skRK0k3aLmgx",
        "colab": {
          "base_uri": "https://localhost:8080/"
        },
        "outputId": "1a90d381-95af-4863-9348-2449e0a33678"
      },
      "source": [
        "print(True & True)\n",
        "print(True & False)\n",
        "print(False & False)\n",
        "print(False & True)"
      ],
      "execution_count": null,
      "outputs": [
        {
          "output_type": "stream",
          "name": "stdout",
          "text": [
            "True\n",
            "False\n",
            "False\n",
            "False\n"
          ]
        }
      ]
    },
    {
      "cell_type": "markdown",
      "metadata": {
        "id": "Mj924xFDgUio"
      },
      "source": [
        "**Exemplo**: Tabela da verdade do operador `not` (não)."
      ]
    },
    {
      "cell_type": "code",
      "metadata": {
        "id": "woeHvKz8LrcD",
        "colab": {
          "base_uri": "https://localhost:8080/"
        },
        "outputId": "71a12657-6f68-4ec0-8e6e-bd8fe3b4a94b"
      },
      "source": [
        "print(not True)\n",
        "print(not False)"
      ],
      "execution_count": null,
      "outputs": [
        {
          "output_type": "stream",
          "name": "stdout",
          "text": [
            "False\n",
            "True\n"
          ]
        }
      ]
    },
    {
      "cell_type": "markdown",
      "metadata": {
        "id": "2lpj1rszc--m"
      },
      "source": [
        "### **5.4. Conversão**"
      ]
    },
    {
      "cell_type": "markdown",
      "metadata": {
        "id": "KUq8EX6-dDBJ"
      },
      "source": [
        "Podemos converter tipos numéricos e *strings* para booleanos através do método nativo `bool`:"
      ]
    },
    {
      "cell_type": "code",
      "metadata": {
        "id": "O9tgHXRQdNJL",
        "colab": {
          "base_uri": "https://localhost:8080/"
        },
        "outputId": "2017d01a-e760-4646-b931-82a7c28e0e27"
      },
      "source": [
        "idade = 19\n",
        "tipo_sangue = 'O-'\n",
        "filhos = 0\n",
        "telefone_fixo = None\n",
        "telefone_fixo = ''\n",
        "\n",
        "print(bool(idade))\n",
        "print(bool(tipo_sangue))\n",
        "print(bool(filhos))\n",
        "print(bool(telefone_fixo))\n",
        "print(bool(telefone_fixo))"
      ],
      "execution_count": null,
      "outputs": [
        {
          "output_type": "stream",
          "name": "stdout",
          "text": [
            "True\n",
            "True\n",
            "False\n",
            "False\n",
            "False\n"
          ]
        }
      ]
    },
    {
      "cell_type": "markdown",
      "metadata": {
        "id": "HnWg_mhLd5gC"
      },
      "source": [
        "### **5.5. Revisitando a motivação**"
      ]
    },
    {
      "cell_type": "markdown",
      "metadata": {
        "id": "jZKyTqyU816m"
      },
      "source": [
        "Compara se os dados fornecidos pelo usuário são iguais aos dados do cadastro:"
      ]
    },
    {
      "cell_type": "code",
      "metadata": {
        "id": "CjOvS816d9jM",
        "colab": {
          "base_uri": "https://localhost:8080/"
        },
        "outputId": "88aacf74-0551-4a3c-8916-c85b07074972"
      },
      "source": [
        "usuario_igual = usuario == usuario_cadastro\n",
        "senha_igual = senha == senha_cadastro\n",
        "\n",
        "print(usuario_igual)\n",
        "print(senha_igual)"
      ],
      "execution_count": null,
      "outputs": [
        {
          "output_type": "stream",
          "name": "stdout",
          "text": [
            "True\n",
            "False\n"
          ]
        }
      ]
    },
    {
      "cell_type": "markdown",
      "metadata": {
        "id": "t1xsfbwY87-g"
      },
      "source": [
        "Decide se concede o acesso:"
      ]
    },
    {
      "cell_type": "code",
      "metadata": {
        "id": "MLxkWnuSeT5A",
        "colab": {
          "base_uri": "https://localhost:8080/"
        },
        "outputId": "ff633bd2-e5fd-432e-e6ae-45ed8b180ab4"
      },
      "source": [
        "conceder_acesso = usuario_igual & senha_igual\n",
        "print(conceder_acesso)"
      ],
      "execution_count": null,
      "outputs": [
        {
          "output_type": "stream",
          "name": "stdout",
          "text": [
            "False\n"
          ]
        }
      ]
    },
    {
      "cell_type": "markdown",
      "metadata": {
        "id": "zMN1Q3jdwoJm"
      },
      "source": [
        "---"
      ]
    },
    {
      "cell_type": "markdown",
      "metadata": {
        "id": "lSDYsB4zO04L"
      },
      "source": [
        "# **Conteúdo Extra**\n",
        "\n"
      ]
    },
    {
      "cell_type": "markdown",
      "metadata": {
        "id": "RhqmXiHQo-is"
      },
      "source": [
        "### Documentação Google Colab\n",
        "\n",
        " - [Google Colab FAQ](https://research.google.com/colaboratory/faq.html): Perguntas mais frequentes sobre o Google Colab."
      ]
    },
    {
      "cell_type": "markdown",
      "metadata": {
        "id": "SvT9xrajLL7J"
      },
      "source": [
        "### Documentação Python\n",
        "\n",
        "\n",
        " - [Tipos Nativos](https://docs.python.org/pt-br/3/library/stdtypes.html): Documentação oficial dos tipos de variáveis nativas da linguagem Python;\n",
        " - [Métodos de String](https://www.w3schools.com/python/python_ref_string.asp): Lista de métodos de *strings* com exemplos."
      ]
    },
    {
      "cell_type": "markdown",
      "metadata": {
        "id": "91eSyA2cLLqv"
      },
      "source": [
        "### Cadernos\n",
        "\n",
        " - [JupyterLab](https://jupyter.org/): Projeto original de de cadernos;\n",
        " - [GCP Notebooks](https://cloud.google.com/ai-platform-notebooks): Solução autogerenciada de cadernos da empresa Google Cloud Platform (GCP);\n",
        " - [Azure Notebooks](https://notebooks.azure.com/): Solução autogerenciada de cadernos da empresa Microsoft Azure;\n",
        " - [Databricks Notebooks](https://databricks.com/product/collaborative-notebooks): Solução autogerenciada de cadernos da empresa Databricks;\n",
        " - [AWS Sagemaker Notebooks](https://aws.amazon.com/pt/sagemaker/): Solução autogerenciada de cadernos da empresa Amazon Web Services (AWS)."
      ]
    }
  ]
}